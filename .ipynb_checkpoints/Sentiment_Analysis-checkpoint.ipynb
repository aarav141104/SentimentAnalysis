{
 "cells": [
  {
   "cell_type": "code",
   "execution_count": 1,
   "id": "8d59c563",
   "metadata": {},
   "outputs": [],
   "source": [
    "import re\n",
    "import pandas as pd"
   ]
  },
  {
   "cell_type": "code",
   "execution_count": 2,
   "id": "d97f3073",
   "metadata": {},
   "outputs": [],
   "source": [
    "df_train = pd.read_excel('./NLP test data for assignment 0324 (2).xlsb', sheet_name = 'training', engine = 'pyxlsb')\n",
    "df_validation = pd.read_excel('./NLP test data for assignment 0324 (2).xlsb', sheet_name = 'validation', engine = 'pyxlsb')"
   ]
  },
  {
   "cell_type": "code",
   "execution_count": 3,
   "id": "cab3ff8c",
   "metadata": {},
   "outputs": [
    {
     "data": {
      "text/plain": [
       "(   UserName  ScreenName     Location TweetAt  \\\n",
       " 0         1       44953          NYC   43864   \n",
       " 1         2       44954  Seattle, WA   43864   \n",
       " \n",
       "                                        OriginalTweet           Sentiment  \\\n",
       " 0  TRENDING: New Yorkers encounter empty supermar...  Extremely Negative   \n",
       " 1  When I couldn't find hand sanitizer at Fred Me...            Positive   \n",
       " \n",
       "                                           CleanTweet  SentimentEncoded  \n",
       " 0  TRENDINGNewYorkersencounteremptysupermarketshe...                 0  \n",
       " 1  WhenIcouldntfindhandsanitizeratFredMeyerIturne...                 4  ,\n",
       "    UserName  ScreenName         Location     TweetAt  \\\n",
       " 0      1470       46422  Ontario, Canada  13-03-2020   \n",
       " 1      1471       46423  Los Angeles, CA  13-03-2020   \n",
       " \n",
       "                                           Unnamed: 4  \\\n",
       " 0  Hey idiots... \\n\\n\\n\\n\\n\\nWhen demand is great...   \n",
       " 1  Which is your favorite Mad Max? The original, ...   \n",
       " \n",
       "                                           CleanTweet  \n",
       " 0  HeyidiotsWhendemandisgreaterthansupplypricesgo...  \n",
       " 1  WhichisyourfavoriteMadMaxTheoriginaltheremakeo...  )"
      ]
     },
     "execution_count": 3,
     "metadata": {},
     "output_type": "execute_result"
    }
   ],
   "source": [
    "def clean_data(text):\n",
    "    text = re.sub(r'https\\S+','',text)\n",
    "    text = re.sub(r'@\\w+','',text)\n",
    "    text = re.sub(r'#\\w+','',text)\n",
    "    text = re.sub(r'\\n','',text)\n",
    "    text = re.sub(r'[^A-Za-z0-9]','',text)\n",
    "    return text.strip()\n",
    "\n",
    "df_train['CleanTweet'] = df_train['OriginalTweet'].apply(clean_data)\n",
    "df_validation['CleanTweet'] = df_validation.iloc[:,-1].apply(clean_data)\n",
    "\n",
    "from sklearn.preprocessing import LabelEncoder\n",
    "label_encoder = LabelEncoder()\n",
    "df_train['SentimentEncoded'] = label_encoder.fit_transform(df_train['Sentiment'])\n",
    "\n",
    "df_train.head(n = 2), df_validation.head(n = 2)"
   ]
  },
  {
   "cell_type": "code",
   "execution_count": null,
   "id": "535b230e",
   "metadata": {},
   "outputs": [],
   "source": [
    "from transformers import BertTokenizer, BertForSequenceClassification, Trainer, TrainingArguments\n",
    "import torch\n",
    "from torch.utils.data import Dataset, DataLoader\n",
    "\n",
    "##Initializing a BERT tokenizer\n",
    "tokenizer = BertTokenizer.from_pretrained('bert-base-uncased')\n",
    "\n",
    "class TweetDataset(Dataset):\n",
    "    def __init__(self,tweets,labels,tokenizer,max_length=128):\n",
    "        self.tweets = tweets\n",
    "        self.labels = labels\n",
    "        self.tokenizer = tokenizer\n",
    "        self.max_length = max_length\n",
    "    def __len__(self):\n",
    "        return len(self.tweets)\n",
    "    def __getitem__(self,idx):\n",
    "        tweet = str(self.tweets[idx])\n",
    "        label = self.labels[idx]\n",
    "        encoding = self.tokenizer.encode_plus(\n",
    "            tweet,\n",
    "            max_length = self.max_length,\n",
    "            truncation = True,\n",
    "            padding = 'max_length',\n",
    "            return_token_type_ids = False,\n",
    "            return_attention_mask = True,\n",
    "            return_tensors = 'pt',\n",
    "            add_special_tokens = True\n",
    "        )\n",
    "        return {\n",
    "            'input_ids': encoding['input_ids'].flatten(),\n",
    "            'attention_mask': encoding['attention_mask'].flatten(),\n",
    "            'labels': torch.tensor(label,dtype=torch.long)\n",
    "        }\n",
    "\n",
    "train_dataset = TweetDataset(\n",
    "    tweets=df_train['CleanTweet'].values,\n",
    "    labels=df_train['SentimentEncoded'].values,\n",
    "    tokenizer=tokenizer\n",
    ")\n",
    "\n",
    "model = BertForSequenceClassification.from_pretrained('bert-base-uncased', num_labels=len(label_encoder.classes_))\n",
    "    \n",
    "\n",
    "# Define training arguments\n",
    "training_args = TrainingArguments(\n",
    "    output_dir='./results',\n",
    "    num_train_epochs=2,\n",
    "    per_device_train_batch_size=8,\n",
    "    per_device_eval_batch_size=8,\n",
    "    warmup_steps=500,\n",
    "    weight_decay=0.01,\n",
    "    logging_dir='./logs',\n",
    "    logging_steps=10,\n",
    ")\n",
    "\n",
    "# Initialize the Trainer\n",
    "trainer = Trainer(\n",
    "    model=model,\n",
    "    args=training_args,\n",
    "    train_dataset=train_dataset\n",
    ")\n",
    "\n",
    "# Train the model\n",
    "trainer.train()"
   ]
  },
  {
   "cell_type": "code",
   "execution_count": null,
   "id": "b3b84010",
   "metadata": {},
   "outputs": [],
   "source": []
  }
 ],
 "metadata": {
  "kernelspec": {
   "display_name": "Python 3 (ipykernel)",
   "language": "python",
   "name": "python3"
  },
  "language_info": {
   "codemirror_mode": {
    "name": "ipython",
    "version": 3
   },
   "file_extension": ".py",
   "mimetype": "text/x-python",
   "name": "python",
   "nbconvert_exporter": "python",
   "pygments_lexer": "ipython3",
   "version": "3.11.3"
  }
 },
 "nbformat": 4,
 "nbformat_minor": 5
}
